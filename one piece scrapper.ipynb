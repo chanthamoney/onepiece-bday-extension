{
 "cells": [
  {
   "cell_type": "code",
   "execution_count": 33,
   "metadata": {},
   "outputs": [],
   "source": [
    "#imports\n",
    "from bs4 import BeautifulSoup\n",
    "import requests\n",
    "from datetime import datetime\n",
    "import re\n",
    "import json\n",
    "from joblib import Parallel, delayed"
   ]
  },
  {
   "cell_type": "code",
   "execution_count": null,
   "metadata": {},
   "outputs": [],
   "source": [
    "characters_page = requests.get(\"https://onepiece.fandom.com/wiki/List_of_Canon_Characters\")\n",
    "characters_page.content"
   ]
  },
  {
   "cell_type": "code",
   "execution_count": null,
   "metadata": {},
   "outputs": [],
   "source": [
    "soup = BeautifulSoup(characters_page.content, 'html.parser')\n",
    "print(soup.prettify())"
   ]
  },
  {
   "cell_type": "code",
   "execution_count": 67,
   "metadata": {},
   "outputs": [],
   "source": [
    "def getCharacterUrl(name):\n",
    "    baseUrl = 'https://onepiece.fandom.com/wiki/'\n",
    "    #check if name has spaces\n",
    "    if (' ' in name):\n",
    "        name = name.replace(' ', '_')\n",
    "    newUrl = baseUrl + name\n",
    "    return newUrl\n",
    "\n",
    "def getCharacterInfo(url, name):\n",
    "    # case sensitive regex match on month and 1-2 digit date\n",
    "    bday_regex = \"(January|February|March|April|May|June|July|August|September|October|November|December)\\s+(\\d{1,2})\"\n",
    "    character_page = requests.get(url)\n",
    "    soup = BeautifulSoup(character_page.content, 'html.parser')\n",
    "    sideBar = soup.find('aside')\n",
    "    # only care about characters with birthdays\n",
    "    if sideBar.find(attrs={\"data-source\": \"birth\"}):\n",
    "        #birthday\n",
    "        input_tag = sideBar.find(attrs={\"data-source\": \"birth\"})\n",
    "        birthday_string = input_tag.find('div').contents[0]\n",
    "        #birthday to month and day ints\n",
    "        results = re.search(bday_regex, birthday_string)\n",
    "        birth_day = results.group(2)\n",
    "        birth_month = datetime.strptime(results.group(1), \"%B\").month\n",
    "        # img url\n",
    "        img = sideBar.find('img')['src']\n",
    "        json_val = {'name': name, 'birthday': birthday_string, 'birth_month': birth_month ,'birth_day': birth_day, 'img_url': img }\n",
    "        return json_val"
   ]
  },
  {
   "cell_type": "code",
   "execution_count": null,
   "metadata": {},
   "outputs": [],
   "source": [
    "# assumes first 2 tables are characters and the third is groups\n",
    "tables = soup.find_all('table', limit=2);\n",
    "json_array = []\n",
    "for table in tables:\n",
    "    rows = table.find_all('tr')\n",
    "    #need to skip the row in thead\n",
    "    print(len(rows), \" characters to go\")\n",
    "    for i, row in enumerate(rows):\n",
    "        if i > 0:\n",
    "            tds = row.find_all('td')\n",
    "            name = tds[1].text.strip()\n",
    "            url = getCharacterUrl(name)\n",
    "            val = getCharacterInfo(url, name)\n",
    "            if (val is not None):\n",
    "                json_array.append(val)\n",
    "            if i%25==0:\n",
    "                print(i,\" characters done\")\n",
    "print(json_array)\n"
   ]
  },
  {
   "cell_type": "code",
   "execution_count": 120,
   "metadata": {},
   "outputs": [
    {
     "name": "stdout",
     "output_type": "stream",
     "text": [
      "1347  characters to go\n",
      "processing char pages\n",
      "done with pages, processing json\n",
      "done with json\n"
     ]
    }
   ],
   "source": [
    "#testing out \"fast version\" with parallel processing\n",
    "\n",
    "def processRow(row):\n",
    "    tds = row.find_all('td')\n",
    "    name = tds[1].text.strip()\n",
    "    return getCharacterUrl(name)\n",
    "\n",
    "tables = soup.find_all('table', limit=2);\n",
    "json_array = []\n",
    "all_rows = []\n",
    "for table in tables:\n",
    "    #need to skip the first row - thead\n",
    "    new_rows = table.find_all('tr')\n",
    "    del new_rows[0]\n",
    "    all_rows = all_rows + new_rows\n",
    "    \n",
    "print(len(all_rows), \" characters to go\")\n",
    "url_list = [processRow(row) for row in all_rows]\n",
    "\n",
    "def getCharacterPage(url):\n",
    "    return requests.get(url)\n",
    "\n",
    "print(\"processing char pages\")\n",
    "all_character_pages = Parallel(n_jobs=10)(delayed(getCharacterPage)(url) for url in url_list)\n",
    "\n",
    "print(\"done with pages\")\n",
    "\n",
    "\n"
   ]
  },
  {
   "cell_type": "code",
   "execution_count": 137,
   "metadata": {},
   "outputs": [
    {
     "name": "stdout",
     "output_type": "stream",
     "text": [
      "start\n",
      "done with json\n"
     ]
    }
   ],
   "source": [
    "def getCharacterInfoFromPage(page):\n",
    "    # case sensitive regex match on month and 1-2 digit date\n",
    "    bday_regex = \"(January|February|March|April|May|June|July|August|September|October|November|December)\\s+(\\d{1,2})\"\n",
    "    soup = BeautifulSoup(page.content, 'html.parser')\n",
    "    sideBar = soup.find('aside')\n",
    "    # only care about characters with birthdays\n",
    "    if sideBar.find(attrs={\"data-source\": \"birth\"}):\n",
    "        # have to rebuild name due to parallel processing\n",
    "        name = sideBar.find(attrs={\"data-source\": \"name\"}).text\n",
    "        #birthday\n",
    "        input_tag = sideBar.find(attrs={\"data-source\": \"birth\"})\n",
    "        birthday_string = input_tag.find('div').contents[0]\n",
    "        #birthday to month and day ints\n",
    "        results = re.search(bday_regex, birthday_string)\n",
    "        birth_day = results.group(2)\n",
    "        birth_month = datetime.strptime(results.group(1), \"%B\").month\n",
    "        # img url\n",
    "        img = sideBar.find('img')['src']\n",
    "        json_val = {'name': name, 'birthday': birthday_string, 'birth_month': birth_month ,'birth_day': birth_day, 'img_url': img }\n",
    "        return json_val\n",
    "    \n",
    "def toJson(page):\n",
    "    return getCharacterInfoFromPage(page)\n",
    "\n",
    "print(\"start\")\n",
    "    \n",
    "#iterative\n",
    "json_array = [toJson(page) for page in all_character_pages]\n",
    "#parallel\n",
    "#json_array = Parallel(n_jobs=10)(delayed(toJson)(page) for page in all_character_pages)\n",
    "        \n",
    "print(\"done with json\")"
   ]
  },
  {
   "cell_type": "code",
   "execution_count": null,
   "metadata": {},
   "outputs": [],
   "source": [
    "#removing nulls\n",
    "json_array = list(filter(lambda item: item is not None, json_array))\n",
    "\n",
    "# Serializing json\n",
    "json_object = json.dumps(json_array, indent=4)\n",
    "print(json_object)\n",
    " "
   ]
  },
  {
   "cell_type": "code",
   "execution_count": 141,
   "metadata": {},
   "outputs": [],
   "source": [
    "# Writing to sample.json\n",
    "with open(\"one_piece_character_data.json\", \"w\") as outfile:\n",
    "    outfile.write(json_object)"
   ]
  },
  {
   "cell_type": "code",
   "execution_count": null,
   "metadata": {},
   "outputs": [],
   "source": []
  }
 ],
 "metadata": {
  "kernelspec": {
   "display_name": "Python 3 (ipykernel)",
   "language": "python",
   "name": "python3"
  },
  "language_info": {
   "codemirror_mode": {
    "name": "ipython",
    "version": 3
   },
   "file_extension": ".py",
   "mimetype": "text/x-python",
   "name": "python",
   "nbconvert_exporter": "python",
   "pygments_lexer": "ipython3",
   "version": "3.11.0"
  }
 },
 "nbformat": 4,
 "nbformat_minor": 2
}
